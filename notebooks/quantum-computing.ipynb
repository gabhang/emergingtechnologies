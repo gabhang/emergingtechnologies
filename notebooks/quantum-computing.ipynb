{
 "cells": [
  {
   "cell_type": "markdown",
   "id": "dad5a24c",
   "metadata": {},
   "source": [
    "# Quantum Computing\n",
    "***\n",
    "### Introduction\n",
    "Quantum computing is an emerging technology that uses **quantum theory** to solve problem that are too complex for traditional computers which have lesser compute power. Quantum computing is being used in various important fields such as finance, public sectors, healthcare systems and many more.\n",
    "\n",
    "<img src=\"https://www.yourlasthost.com/blog/wp-content/uploads/2021/07/Weather-Forecasting-and-Predictions-10-Reasons-How-Quantum-Computing-Will-Change-The-World-Future-of-Sourcing-%E2%80%93-YourLastHost.png\" width=500 height=400 />\n",
    "\n",
    "**Qubits** which is also known as **quantum bits** are used to store data that can be 0 or/and 1 or/and any value combinations in between **at the same time**. This situation is called **superposition** as there is *more than one state* being stored.\n",
    "\n",
    "References: __[Quantum Computing: Definition, How It's Used, and Example](https://www.investopedia.com/terms/q/quantum-computing.asp#:~:text=Quantum%20computing%20is%20an%20area,such%20as%20electrons%20or%20photons.), [What is quantum computing?](https://www.ibm.com/topics/quantum-computing)__"
   ]
  },
  {
   "cell_type": "markdown",
   "id": "a87078c7",
   "metadata": {},
   "source": []
  }
 ],
 "metadata": {
  "kernelspec": {
   "display_name": "Python 3 (ipykernel)",
   "language": "python",
   "name": "python3"
  },
  "language_info": {
   "codemirror_mode": {
    "name": "ipython",
    "version": 3
   },
   "file_extension": ".py",
   "mimetype": "text/x-python",
   "name": "python",
   "nbconvert_exporter": "python",
   "pygments_lexer": "ipython3",
   "version": "3.9.7"
  }
 },
 "nbformat": 4,
 "nbformat_minor": 5
}
