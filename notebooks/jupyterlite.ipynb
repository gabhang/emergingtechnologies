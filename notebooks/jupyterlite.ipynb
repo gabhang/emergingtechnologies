{
 "cells": [
  {
   "cell_type": "markdown",
   "id": "654a3f51",
   "metadata": {},
   "source": [
    "# JupyterLite\n",
    "***"
   ]
  },
  {
   "cell_type": "markdown",
   "id": "5985aed9",
   "metadata": {},
   "source": [
    "### Introduction\n",
    "\n",
    "JupyterLite is an interactive environment created by utilising **JupyterLab components** and **extensions**. It operates fully within the browser as a **JupyterLab distribution**. In layman's term, JupyterLite is a **browser version** of JupyterLab.\n",
    "\n",
    "Although at the time of writing JupyterLite is **not officially released** as a project, most features of Jupyter Notebook and JupyterLab are already included.\n",
    "\n",
    "Reference: __[JupyterLite](https://jupyterlite.readthedocs.io/en/latest/)__"
   ]
  },
  {
   "cell_type": "markdown",
   "id": "6227fd1d",
   "metadata": {},
   "source": [
    "## Jupyter\n",
    "***\n",
    "<img src=\"https://jupyter.org/assets/homepage/main-logo.svg\" width=300 height=300 />\n",
    "\n",
    "Jupyter (aka Project Jupyter) is an *open source* static software for **interative computing** and **collaboration** by using texts, codes, graphs and so on that is widely use in the engineering and data science field for instance. Jupyter default kernel is Python but additional kernals may be installed for other languages. Jupyter has various subprojects extending this fundamental idea."
   ]
  },
  {
   "cell_type": "markdown",
   "id": "db50c267",
   "metadata": {},
   "source": [
    "### Subprojects\n",
    "- **Jupyter Notebook**: An **interactive web-based notebook** to create and share computational documents. A simple guide to run Jupyter Notebooks by using a notebook server can be found [here](https://github.com/gabhang/graph_theory), in the README file from my last research that uses Jupyter Notebooks as well. \n",
    "- **JupyterHub**: An enhanced version of Jupyter Notebook **for groups of users** to collaborate that runs in the cloud or on users' own hardware.\n",
    "- **JupyterLab**: A web-based interactive environment of Jupyter. Apart from Jupyter Notebooks, text editors, terminals and custom components work in JupyterLab too.\n",
    "- **Binder**: A project that generates a link to specify custom environments in an executable environment for *immediate reproducibility For example, Binder enables users to share links (which contains Jupyter Notebooks, Voilà, etc.) to interactive data analytics environments with other group of people.\n",
    "- **Voilà**: An application that converts Jupyter Notebook into a **dashboard** that is interactive and sharable\n",
    "- **Widgets**: Interative widgets that make information **\"alive\"** through various visualisation tools.\n",
    "\n",
    "References: __[Jupyter](https://jupyter.org/), [What is Jupyter?](https://www.oreilly.com/radar/what-is-jupyter/), [JupyterHub](https://jupyter.org/hub), [JupyterLab](https://jupyterlab.readthedocs.io/en/stable/getting_started/overview.html), [Binder](https://jupyter.org/binder), [Voilà](https://voila.readthedocs.io/en/stable/), [Interactive Widgets](https://jupyter.org/widgets)__\n",
    "\n",
    "As mentioned previously, JupyterLite is still unofficial, therefore, it has not been included as a Jupyter subproject yet.\n",
    "\n"
   ]
  },
  {
   "cell_type": "markdown",
   "id": "a242ee2a",
   "metadata": {},
   "source": [
    "## JupyterLite\n",
    "***\n",
    "\n",
    "JupyterLite is somehow similar to JupyterLab as it is a JupyterLab distribution that *runs entirely in the browser*. The main difference between JupyterLite with JupyterLab and other Jupyter projects is that JupyterLite uses **WebAssembly (WASM)** instead of Jupyter server to fire up the environment. Hence, the data in JupyterLite is written to **local storage**. \n",
    "\n",
    "### WebAssembly\n",
    "\n",
    "### Pyiodide\n",
    "\n",
    "References: __[JupyterLite](https://jupyterlite.readthedocs.io/en/latest/), [Using an existing JupyterLite deployment](https://jupyterlite.readthedocs.io/en/latest/quickstart/using.html)__\n",
    "\n",
    "### Generate and access JupyterLite webpage\n",
    "\n",
    "<img src=\"https://user-images.githubusercontent.com/21197331/125816904-5768008a-77de-4cb3-8013-f3999b135c02.gif\" width=600 height=500 />\n",
    "\n",
    "JupyterLite instance can be generated easily by clicking the \"Use this template\" in [jupyterlite demo repository](https://github.com/jupyterlite/demo) as shown above. Create a new repository for your JupyterLite.\n",
    "\n",
    "<img src=\"https://user-images.githubusercontent.com/591645/183384744-d7e08150-8f5f-4a50-bd53-5c99b1fd99a1.png\" width=600 height=500 />\n",
    "\n",
    "The first default deployment will fail as it has to be deploy using GitHub Actions. Therefore, from the repository *Settings* tab, select the *Pages* Menu and change the source to *GitHub Actions* from the dropdown menu as shown. \n",
    "\n",
    "Starting from the next commit, the Jupyter website will be deployed successfully and will be available on GitHub pages or `https://YOUR_GITHUB_USERNAME.github.io/YOUR_REPOSITORY-NAME`.\n",
    "\n",
    "More about GitHub Actions or Github Pages can be read in the github-pages notebook.\n",
    "\n",
    "References: __[Deploy your first JupyterLite website on GitHub Pages](https://jupyterlite.readthedocs.io/en/latest/quickstart/deploy.html), [JupyterLite Demo](https://github.com/jupyterlite/demo)__"
   ]
  }
 ],
 "metadata": {
  "kernelspec": {
   "display_name": "Python 3 (ipykernel)",
   "language": "python",
   "name": "python3"
  },
  "language_info": {
   "codemirror_mode": {
    "name": "ipython",
    "version": 3
   },
   "file_extension": ".py",
   "mimetype": "text/x-python",
   "name": "python",
   "nbconvert_exporter": "python",
   "pygments_lexer": "ipython3",
   "version": "3.9.7"
  }
 },
 "nbformat": 4,
 "nbformat_minor": 5
}
