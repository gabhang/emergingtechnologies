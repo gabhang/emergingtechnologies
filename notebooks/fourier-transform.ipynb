{
 "cells": [
  {
   "cell_type": "markdown",
   "id": "2f9fc1d6",
   "metadata": {},
   "source": [
    "# Fourier Transform\n",
    "***\n",
    "### Introduction\n",
    "Fourier Transform is a mathematical technique for ...\n",
    "\n",
    "\n",
    "## Complex Numbers\n",
    "***\n",
    "It is vital to go through some basics of complex numbers as Fourier Transforms are carried out using complex numbers."
   ]
  },
  {
   "cell_type": "code",
   "execution_count": 1,
   "id": "95681235",
   "metadata": {},
   "outputs": [
    {
     "data": {
      "text/plain": [
       "(1, -2)"
      ]
     },
     "execution_count": 1,
     "metadata": {},
     "output_type": "execute_result"
    }
   ],
   "source": [
    "# A tuple x (a set of values) of length 2\n",
    "x = (1, -2)\n",
    "x"
   ]
  },
  {
   "cell_type": "code",
   "execution_count": 2,
   "id": "3abf890d",
   "metadata": {},
   "outputs": [
    {
     "data": {
      "text/plain": [
       "(-3, 4)"
      ]
     },
     "execution_count": 2,
     "metadata": {},
     "output_type": "execute_result"
    }
   ],
   "source": [
    "# A tuple y (a set of values) of length 2\n",
    "y = (-3, 4)\n",
    "y"
   ]
  }
 ],
 "metadata": {
  "kernelspec": {
   "display_name": "Python 3 (ipykernel)",
   "language": "python",
   "name": "python3"
  },
  "language_info": {
   "codemirror_mode": {
    "name": "ipython",
    "version": 3
   },
   "file_extension": ".py",
   "mimetype": "text/x-python",
   "name": "python",
   "nbconvert_exporter": "python",
   "pygments_lexer": "ipython3",
   "version": "3.9.7"
  }
 },
 "nbformat": 4,
 "nbformat_minor": 5
}
