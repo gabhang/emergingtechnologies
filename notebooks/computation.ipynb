{
 "cells": [
  {
   "cell_type": "markdown",
   "id": "88aae16d",
   "metadata": {},
   "source": [
    "# Computation\n",
    "***\n",
    "### Introduction\n",
    "\n",
    "Computation is an important operation that ***takes in some input conditions*** and ***generates an output*** that is determined by a ***specific set of rules***. According to dictionaries, *Cambridge Dictionary* defines computation as **\"the act or process of calculating an answer or amount by using a machine\"** while *Merriam-Webster* proposes **\"the act or action of computing\"** and **\"the use or operation of a computer\"**.\n",
    "\n",
    "References: __[Computation](https://mathworld.wolfram.com/Computation.html), [computation](https://dictionary.cambridge.org/dictionary/english/computation), [computation](https://www.merriam-webster.com/dictionary/computation)__\n",
    "\n",
    "## Theory of computation\n",
    "***\n",
    "\n",
    "The theory of computation can be approached through three main branches, namely ***Automata Theory***, ***Computability Theory*** and ***Complexity Theory***. These fields use efficient algorithms to make use of computers' problem solving capabilities that will be explained in further details."
   ]
  }
 ],
 "metadata": {
  "kernelspec": {
   "display_name": "Python 3 (ipykernel)",
   "language": "python",
   "name": "python3"
  },
  "language_info": {
   "codemirror_mode": {
    "name": "ipython",
    "version": 3
   },
   "file_extension": ".py",
   "mimetype": "text/x-python",
   "name": "python",
   "nbconvert_exporter": "python",
   "pygments_lexer": "ipython3",
   "version": "3.9.7"
  }
 },
 "nbformat": 4,
 "nbformat_minor": 5
}
