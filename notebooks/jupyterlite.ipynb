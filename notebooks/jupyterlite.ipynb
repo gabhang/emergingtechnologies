{
 "cells": [
  {
   "cell_type": "markdown",
   "id": "654a3f51",
   "metadata": {},
   "source": [
    "# JupyterLite\n",
    "***"
   ]
  },
  {
   "cell_type": "markdown",
   "id": "5985aed9",
   "metadata": {},
   "source": [
    "### Introduction\n",
    "\n",
    "JupyterLite is an interactive environment created by utilising **JupyterLab components** and **extensions**. It operates fully within the browser as a **JupyterLab distribution**. In layman's term, JupyterLite is a **browser version** of JupyterLab.\n",
    "\n",
    "Although at the time of writing JupyterLite is **not officially released** as a project, most features of Jupyter Notebook and JupyterLab are already included.\n",
    "\n",
    "Reference: __[JupyterLite](https://jupyterlite.readthedocs.io/en/latest/)__"
   ]
  },
  {
   "cell_type": "markdown",
   "id": "db50c267",
   "metadata": {},
   "source": [
    "### Subprojects\n",
    "- **Jupyter Notebook**: An **interactive web-based notebook** to create and share computational documents. A simple guide to run Jupyter Notebooks by using a notebook server can be found [here](https://github.com/gabhang/graph_theory), in the README file from my last research that uses Jupyter Notebooks as well. \n",
    "- **JupyterHub**: An enhanced version of Jupyter Notebook **for groups of users** to collaborate that runs in the cloud or on users' own hardware.\n",
    "- **JupyterLab**: A web-based interactive environment of Jupyter. Apart from Jupyter Notebooks, text editors, terminals and custom components work in JupyterLab too.\n",
    "- **Binder**: A project that generates a link to specify custom environments in an executable environment for *immediate reproducibility For example, Binder enables users to share links (which contains Jupyter Notebooks, Voilà, etc.) to interactive data analytics environments with other group of people.\n",
    "- **Voilà**: An application that converts Jupyter Notebook into a **dashboard** that is interactive and sharable\n",
    "- **Widgets**: Interative widgets that make information **\"alive\"** through various visualisation tools.\n",
    "\n",
    "References: __[Jupyter](https://jupyter.org/), [What is Jupyter?](https://www.oreilly.com/radar/what-is-jupyter/), [JupyterHub](https://jupyter.org/hub), [JupyterLab](https://jupyterlab.readthedocs.io/en/stable/getting_started/overview.html), [Binder](https://jupyter.org/binder), [Voilà](https://voila.readthedocs.io/en/stable/), [Interactive Widgets](https://jupyter.org/widgets)__\n",
    "\n",
    "As mentioned previously, JupyterLite is still unofficial, therefore, it has not been included as a Jupyter subproject yet.\n",
    "\n"
   ]
  }
 ],
 "metadata": {
  "kernelspec": {
   "display_name": "Python 3 (ipykernel)",
   "language": "python",
   "name": "python3"
  },
  "language_info": {
   "codemirror_mode": {
    "name": "ipython",
    "version": 3
   },
   "file_extension": ".py",
   "mimetype": "text/x-python",
   "name": "python",
   "nbconvert_exporter": "python",
   "pygments_lexer": "ipython3",
   "version": "3.9.7"
  }
 },
 "nbformat": 4,
 "nbformat_minor": 5
}
