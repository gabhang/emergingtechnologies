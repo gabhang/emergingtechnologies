{
 "cells": [
  {
   "cell_type": "markdown",
   "id": "654a3f51",
   "metadata": {},
   "source": [
    "# JupyterLite\n",
    "***"
   ]
  },
  {
   "cell_type": "markdown",
   "id": "5985aed9",
   "metadata": {},
   "source": [
    "### Introduction\n",
    "\n",
    "JupyterLite is an interactive environment created by utilising **JupyterLab components** and **extensions**. It operates fully within the browser as a **JupyterLab distribution**. In layman's term, JupyterLite is a **browser version** of JupyterLab.\n",
    "\n",
    "Although at the time of writing JupyterLite is **not officially released** as a project, most features of Jupyter Notebook and JupyterLab are already included.\n",
    "\n",
    "Reference: __[JupyterLite](https://jupyterlite.readthedocs.io/en/latest/)__"
   ]
  }
 ],
 "metadata": {
  "kernelspec": {
   "display_name": "Python 3 (ipykernel)",
   "language": "python",
   "name": "python3"
  },
  "language_info": {
   "codemirror_mode": {
    "name": "ipython",
    "version": 3
   },
   "file_extension": ".py",
   "mimetype": "text/x-python",
   "name": "python",
   "nbconvert_exporter": "python",
   "pygments_lexer": "ipython3",
   "version": "3.9.7"
  }
 },
 "nbformat": 4,
 "nbformat_minor": 5
}
