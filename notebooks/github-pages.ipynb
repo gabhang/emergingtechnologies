{
 "cells": [
  {
   "cell_type": "markdown",
   "id": "c75d0fcd",
   "metadata": {},
   "source": [
    "# Github Pages\n",
    "***"
   ]
  },
  {
   "cell_type": "markdown",
   "id": "30a38080",
   "metadata": {},
   "source": [
    "### Introduction\n",
    "Github Pages enables users to publish a static webpage ***publicly*** and ***directly*** from a GitHub repository. Before knowing more about Github Pages, it is vital to know how webpages work and the types of webpages available.\n",
    "\n",
    "Reference: __[About GitHub Pages](https://docs.github.com/en/pages/getting-started-with-github-pages/about-github-pages)__"
   ]
  },
  {
   "cell_type": "markdown",
   "id": "6834826e",
   "metadata": {},
   "source": [
    "## Hypertext Transfer Protocol (HTTP)\n",
    "***\n",
    "To start up a webpage, it is necessary to have a ***client*** and a ***server***. A client is a device that has internet connection and a browser to be able to access a webpage. On the contrary, a server is a device that stores webpages.\n",
    "\n",
    "Clients and servers communicate through an *application protocol* named **HTTP** to *send* and *receive* information. HTTP is a ***stateless protocol*** as it executes every transaction (consists of a request and a response) **independently**. As such, the state of the client will be discarded once the transaction has ended.\n",
    "\n",
    "<img src=\"https://developer.mozilla.org/en-US/docs/Learn/Getting_started_with_the_web/How_the_Web_works/simple-client-server.png\" width=600 height=600 />\n",
    "\n",
    "For a client to be able to view a specific webpage, the client needs to obtain the webpage from the server that has it through an ***HTTP request***. Next, the server will prepare a duplicate of that webpage and send it back to the client which is called an ***HTTP response***. \n",
    "\n",
    "References: __[How the web works](https://developer.mozilla.org/en-US/docs/Learn/Getting_started_with_the_web/How_the_Web_works#:~:text=The%20browser%20sends%20an%20HTTP,internet%20connection%20using%20TCP%2FIP.), [HTTP is a stateless protocol](https://www.oreilly.com/library/view/hands-on-full-stack-web/9781788622882/46146c7a-c43c-4218-acf1-60a8b493f04e.xhtml)__\n",
    "\n",
    "### HTTP Request and Response messages\n",
    "\n",
    "The following figure shows a simple example of an HTTP request message and HTTP response message, which consists of ***start line (request line/response line)***, ***headers*** and ***body***.\n",
    "\n",
    "<img src=\"https://www.oreilly.com/api/v2/epubs/1565925092/files/httpatomoreillycomsourceoreillyimages96838.png\" width=600 height=600 />\n",
    "\n",
    "#### HTTP Request\n",
    "\n",
    "##### Request Line\n",
    "\n",
    "In HTTP Request message, the first line specifies `Method|Path|HTTP protocol version`. There are eight different methods available for sending a request:\n",
    "1. **GET**: Obtains data or content from the specific path.\n",
    "2. **HEAD**: Same function as GET but only the information or header of the content.\n",
    "3. **POST**: Sends data.\n",
    "4. **PUT**: Replaces data.\n",
    "5. **DELETE**: Deletes data.\n",
    "6. **CONNECT**: Connects network link.\n",
    "7. **OPTIONS**: Describes communication options.\n",
    "8. **TRACE**: Returns the request back for debugging purposes.\n",
    "\n",
    "Next, a Uniform Resource Locator (URL) is contained in the path of the request line to get response from that specific server. For the version of the HTTP protocol, although `HTTP/1.0` is usually used.\n",
    "\n",
    "##### Request Header\n",
    "\n",
    "The number of headers can be 0 or more depending what and how many information does the client need. It is interesting to note that the header ends with a blank line.\n",
    "\n",
    "##### Request Body\n",
    "\n",
    "The body of the request message contains any data that is required for the server to produce a correct response that the client is demanding.\n",
    "\n",
    "#### HTTP response\n",
    "\n",
    "##### Response Line\n",
    "\n",
    "The response line specifies `HTTP protocol version|Status code|Status message|`. There are five groups of HTTP response status codes which are shown in the table below:\n",
    "\n",
    "| Status Code | Description |\n",
    "| :- | :- | \n",
    "| 100 - 199 | Informational responses |\n",
    "| 200 - 299 | Successful |\n",
    "| 300 - 399 | Redirection |\n",
    "| 400 - 499 | Client error |\n",
    "| 500 - 599 | Server error |\n",
    "\n",
    "Some examples of common status codes with their status messages:\n",
    "> **200**: OK\n",
    "\n",
    "> **400**: Bad Request\n",
    "\n",
    "> **404**: Not Found\n",
    "\n",
    "> **502**: Bad Getaway\n",
    "\n",
    "##### Response Header\n",
    "\n",
    "The response header contains information of the resource or content that the client has been requested.\n",
    "\n",
    "##### Response Body\n",
    "\n",
    "After the response header's blank line, the response body contains any data that has been requested by the client or errors if the request is unsuccessful. \n",
    "\n",
    "References: __[Messages](https://www.oreilly.com/library/view/http-the-definitive/1565925092/ch01s05.html), [The HTTP protocol](https://www.ibm.com/docs/en/cics-ts/5.3?topic=concepts-http-protocol), [HTTP response status codes](https://developer.mozilla.org/en-US/docs/Web/HTTP/Status)__"
   ]
  }
 ],
 "metadata": {
  "kernelspec": {
   "display_name": "Python 3 (ipykernel)",
   "language": "python",
   "name": "python3"
  },
  "language_info": {
   "codemirror_mode": {
    "name": "ipython",
    "version": 3
   },
   "file_extension": ".py",
   "mimetype": "text/x-python",
   "name": "python",
   "nbconvert_exporter": "python",
   "pygments_lexer": "ipython3",
   "version": "3.9.7"
  }
 },
 "nbformat": 4,
 "nbformat_minor": 5
}
