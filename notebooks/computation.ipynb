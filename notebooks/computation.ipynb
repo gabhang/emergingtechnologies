{
 "cells": [
  {
   "cell_type": "markdown",
   "id": "88aae16d",
   "metadata": {},
   "source": [
    "# Computation\n",
    "***\n",
    "### Introduction\n",
    "\n",
    "Computation is an important operation that ***takes in some input conditions*** and ***generates an output*** that is determined by a ***specific set of rules***. According to dictionaries, *Cambridge Dictionary* defines computation as **\"the act or process of calculating an answer or amount by using a machine\"** while *Merriam-Webster* proposes **\"the act or action of computing\"** and **\"the use or operation of a computer\"**.\n",
    "\n",
    "References: __[Computation](https://mathworld.wolfram.com/Computation.html), [computation](https://dictionary.cambridge.org/dictionary/english/computation), [computation](https://www.merriam-webster.com/dictionary/computation)__\n",
    "\n",
    "## Theory of computation\n",
    "***\n",
    "\n",
    "The theory of computation can be approached through three main branches, namely ***Automata Theory***, ***Computability Theory*** and ***Complexity Theory***. These fields use efficient algorithms to make use of computers' problem solving capabilities that will be explained in further details.\n",
    "\n",
    "### Automata Theory\n",
    "The automata theory studies the behaviour and problem-solving strategies of machines, for instance, quantum computers. Automata are machines or computing devices that process input symbols and produce output according to a predefined pattern or rules. \n",
    "\n",
    "The main application of this theory is in mathematical problem anaylises model, for example:\n",
    "Following are examples of models that use this theory:\n",
    "- **Finite Automata**: A poor model as it can only perform computational tasks that are simple and straightforward like building text editors.\n",
    "- **Context free grammar**: This model is used frequently to describe programming languages and artificial inteligence.\n",
    "- **Turing machine**: This machine is very powerful as it acts and solve problems almost exactly like a real computer.\n",
    "\n",
    "\n",
    "### Computability Theory\n",
    "This theory investigates if a problem is computable. By using machines or models like those described previosly, it is able to identify solvable and unsolvable problems which eventually lead to the creation of real computers.\n",
    "\n",
    "### Complexity Theory\n",
    "There is always a complexity to solve a problem. To analyse that, this theory measures the cost and resources needed solve a computable problem. A common tool or notation for measusing computational complexity will be Big O Notation.\n",
    "\n",
    "References: __[Theory of Computation](http://www.contrib.andrew.cmu.edu/~hebah/Theory%20of%20computation.html#:~:text=The%20theory%20of%20computation%20is,at%20which%20computers%20solve%20problems.),[What is the theory of computation?](https://www.tutorialspoint.com/what-is-the-theory-of-computation), [Introduction to the Theory of Computation](https://www.section.io/engineering-education/introduction-to-theory-of-computation/)__"
   ]
  }
 ],
 "metadata": {
  "kernelspec": {
   "display_name": "Python 3 (ipykernel)",
   "language": "python",
   "name": "python3"
  },
  "language_info": {
   "codemirror_mode": {
    "name": "ipython",
    "version": 3
   },
   "file_extension": ".py",
   "mimetype": "text/x-python",
   "name": "python",
   "nbconvert_exporter": "python",
   "pygments_lexer": "ipython3",
   "version": "3.9.7"
  }
 },
 "nbformat": 4,
 "nbformat_minor": 5
}
